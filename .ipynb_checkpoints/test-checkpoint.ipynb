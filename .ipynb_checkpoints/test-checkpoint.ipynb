{
 "cells": [
  {
   "cell_type": "code",
   "execution_count": 18,
   "id": "17c0dc2f-c43a-490a-a088-2b904d38ed95",
   "metadata": {
    "tags": []
   },
   "outputs": [],
   "source": [
    "import numpy as np\n",
    "import torch"
   ]
  },
  {
   "cell_type": "code",
   "execution_count": 19,
   "id": "5ec14975-a696-4fe8-be58-e026ee01beed",
   "metadata": {
    "tags": []
   },
   "outputs": [],
   "source": [
    "# Units in microns\n",
    "wavelength = 0.6  # fluorescence wavelength/um\n",
    "# objective immersion media\n",
    "n_measure = 1.33\n",
    "# background refractive index, PDMS\n",
    "n_b = 1.33\n",
    "mag = 20  # Q：magnification有什么物理意义？\n",
    "# pixel_size = 6.5e-6 感觉有点太小了 Q：这个pixel_size的单位是什么？\n",
    "pixel_size = 4\n",
    "na = 1\n",
    "dx = pixel_size / mag\n",
    "dy = dx\n",
    "dz = 20 * pixel_size/mag\n",
    "shape = [200,200,25]\n",
    "np_ctype = \"complex64\""
   ]
  },
  {
   "cell_type": "code",
   "execution_count": 20,
   "id": "fa2a29a1-b21a-4a87-87fb-e5452c561fd7",
   "metadata": {
    "tags": []
   },
   "outputs": [],
   "source": [
    "y = (np.arange(shape[0]) - shape[0] // 2) * (dy)\n",
    "x = (np.arange(shape[1]) - shape[1] // 2) * (dx)\n",
    "xx, yy = np.meshgrid(x, y)\n",
    "xx = np.array(xx)\n",
    "yy = np.array(yy)\n",
    "\n",
    "# spatial frequency sampling\n",
    "uy = (np.arange(shape[0]) - shape[0] // 2) * (1 / dy / shape[0])\n",
    "# print(uy)\n",
    "ux = (np.arange(shape[1]) - shape[1] // 2) * (1 / dy / shape[1])\n",
    "uxx, uyy = np.meshgrid(ux, uy)\n",
    "uxx = np.array(uxx)\n",
    "uyy = np.array(uyy)"
   ]
  },
  {
   "cell_type": "code",
   "execution_count": 21,
   "id": "8dc95b8b-25b3-4e1b-832f-fb0b5694903a",
   "metadata": {
    "tags": []
   },
   "outputs": [
    {
     "data": {
      "text/plain": [
       "array([[-2.5  , -2.475, -2.45 , ...,  2.425,  2.45 ,  2.475],\n",
       "       [-2.5  , -2.475, -2.45 , ...,  2.425,  2.45 ,  2.475],\n",
       "       [-2.5  , -2.475, -2.45 , ...,  2.425,  2.45 ,  2.475],\n",
       "       ...,\n",
       "       [-2.5  , -2.475, -2.45 , ...,  2.425,  2.45 ,  2.475],\n",
       "       [-2.5  , -2.475, -2.45 , ...,  2.425,  2.45 ,  2.475],\n",
       "       [-2.5  , -2.475, -2.45 , ...,  2.425,  2.45 ,  2.475]])"
      ]
     },
     "execution_count": 21,
     "metadata": {},
     "output_type": "execute_result"
    }
   ],
   "source": [
    "uxx"
   ]
  },
  {
   "cell_type": "code",
   "execution_count": 22,
   "id": "0ec018a1-004b-48c0-a199-3fe47917af21",
   "metadata": {
    "tags": []
   },
   "outputs": [],
   "source": [
    "fx_source = 0.0041\n",
    "fy_source = -0.0146\n",
    "fz_source = 0\n",
    "fx_source_on_grid = np.round(fx_source*shape[1]/dx)*dx/shape[1]\n",
    "fy_source_on_grid = np.round(fy_source*shape[0]/dy)*dy/shape[0]\n",
    "fx_source = np.array(fx_source)\n",
    "fy_source = np.array(fy_source)\n",
    "fz_source = n_b/wavelength\n",
    "ux_shifted = np.fft.ifftshift(xx)\n",
    "uy_shifted = np.fft.ifftshift(yy)"
   ]
  },
  {
   "cell_type": "code",
   "execution_count": 23,
   "id": "dc967a3b-1f92-447a-a24d-65e0c3aa84ba",
   "metadata": {
    "tags": []
   },
   "outputs": [],
   "source": [
    "a = (((ux_shifted-fx_source*shape[1])*np.conj(ux_shifted-fx_source*shape[1]))+((uy_shifted-fy_source*shape[0])*np.conj(uy_shifted-fy_source*shape[0])))**0.5"
   ]
  },
  {
   "cell_type": "code",
   "execution_count": 24,
   "id": "f67083e8-c7d7-44b1-8f06-0e30380bf64c",
   "metadata": {
    "tags": []
   },
   "outputs": [
    {
     "data": {
      "text/plain": [
       "array([[0, 0, 0, ..., 0, 0, 0],\n",
       "       [0, 0, 0, ..., 0, 0, 0],\n",
       "       [0, 0, 0, ..., 0, 0, 0],\n",
       "       ...,\n",
       "       [0, 0, 0, ..., 0, 0, 0],\n",
       "       [0, 0, 0, ..., 0, 0, 0],\n",
       "       [0, 0, 0, ..., 0, 0, 0]])"
      ]
     },
     "execution_count": 24,
     "metadata": {},
     "output_type": "execute_result"
    }
   ],
   "source": [
    "np.where(a,0,1)"
   ]
  },
  {
   "cell_type": "code",
   "execution_count": 25,
   "id": "e83843d1-484f-4b68-972b-006b29b4f73f",
   "metadata": {
    "tags": []
   },
   "outputs": [
    {
     "data": {
      "text/plain": [
       "0"
      ]
     },
     "execution_count": 25,
     "metadata": {},
     "output_type": "execute_result"
    }
   ],
   "source": [
    "np.sum(np.where(a,0,1))"
   ]
  },
  {
   "cell_type": "code",
   "execution_count": 26,
   "id": "e5118087-dd88-488d-af20-d44497be4252",
   "metadata": {
    "tags": []
   },
   "outputs": [
    {
     "data": {
      "text/plain": [
       "array([[3.03295236, 2.98509631, 2.95005085, ..., 3.24696782, 3.16461688,\n",
       "        3.09302441],\n",
       "       [3.22595722, 3.18100613, 3.14814231, ..., 3.42794399, 3.35004478,\n",
       "        3.28249905],\n",
       "       [3.41976607, 3.37739545, 3.34646082, ..., 3.61092786, 3.53706093,\n",
       "        3.47315419],\n",
       "       ...,\n",
       "       [2.46065032, 2.40141625, 2.35771075, ..., 2.72007353, 2.62122109,\n",
       "        2.53432437],\n",
       "       [2.6500566 , 2.59514932, 2.55476026, ..., 2.89254213, 2.79978571,\n",
       "        2.71860258],\n",
       "       [2.84091535, 2.78976702, 2.75223546, ..., 3.06835461, 2.98107363,\n",
       "        2.90496127]])"
      ]
     },
     "execution_count": 26,
     "metadata": {},
     "output_type": "execute_result"
    }
   ],
   "source": [
    "a"
   ]
  },
  {
   "cell_type": "code",
   "execution_count": 27,
   "id": "bec46e35-5c52-4f26-8601-6f0b05c1d366",
   "metadata": {
    "tags": []
   },
   "outputs": [
    {
     "data": {
      "text/plain": [
       "0"
      ]
     },
     "execution_count": 27,
     "metadata": {},
     "output_type": "execute_result"
    }
   ],
   "source": [
    "np.sum(np.where(a,0,1))"
   ]
  },
  {
   "cell_type": "code",
   "execution_count": null,
   "id": "ef4039b8-e99a-440e-b310-78a85cec0b71",
   "metadata": {},
   "outputs": [],
   "source": []
  }
 ],
 "metadata": {
  "kernelspec": {
   "display_name": "FluoPhaseRecon",
   "language": "python",
   "name": "fluophaserecon"
  },
  "language_info": {
   "codemirror_mode": {
    "name": "ipython",
    "version": 3
   },
   "file_extension": ".py",
   "mimetype": "text/x-python",
   "name": "python",
   "nbconvert_exporter": "python",
   "pygments_lexer": "ipython3",
   "version": "3.9.16"
  }
 },
 "nbformat": 4,
 "nbformat_minor": 5
}
