{
 "cells": [
  {
   "cell_type": "code",
   "execution_count": 62,
   "id": "17c0dc2f-c43a-490a-a088-2b904d38ed95",
   "metadata": {
    "tags": []
   },
   "outputs": [],
   "source": [
    "import numpy as np\n",
    "import torch"
   ]
  },
  {
   "cell_type": "code",
   "execution_count": 63,
   "id": "5ec14975-a696-4fe8-be58-e026ee01beed",
   "metadata": {
    "tags": []
   },
   "outputs": [],
   "source": [
    "# Units in microns\n",
    "wavelength = 0.6  # fluorescence wavelength/um\n",
    "# objective immersion media\n",
    "n_measure = 1.33\n",
    "# background refractive index, PDMS\n",
    "n_b = 1.33\n",
    "mag = 20  # Q：magnification有什么物理意义？\n",
    "# pixel_size = 6.5e-6 感觉有点太小了 Q：这个pixel_size的单位是什么？\n",
    "pixel_size = 4\n",
    "na = 1\n",
    "dx = pixel_size / mag\n",
    "dy = dx\n",
    "dz = 20 * pixel_size/mag\n",
    "shape = [200,200,25]\n",
    "np_ctype = \"complex64\""
   ]
  },
  {
   "cell_type": "code",
   "execution_count": 64,
   "id": "fa2a29a1-b21a-4a87-87fb-e5452c561fd7",
   "metadata": {
    "tags": []
   },
   "outputs": [],
   "source": [
    "y = (np.arange(shape[0]) - shape[0] // 2) * (dy)\n",
    "x = (np.arange(shape[1]) - shape[1] // 2) * (dx)\n",
    "xx, yy = np.meshgrid(x, y)\n",
    "xx = np.array(xx)\n",
    "yy = np.array(yy)\n",
    "\n",
    "# spatial frequency sampling\n",
    "uy = (np.arange(shape[0]) - shape[0] // 2) * (1 / dy / shape[0])\n",
    "# print(uy)\n",
    "ux = (np.arange(shape[1]) - shape[1] // 2) * (1 / dy / shape[1])\n",
    "uxx, uyy = np.meshgrid(ux, uy)\n",
    "uxx = np.array(uxx)\n",
    "uyy = np.array(uyy)"
   ]
  },
  {
   "cell_type": "code",
   "execution_count": 65,
   "id": "8dc95b8b-25b3-4e1b-832f-fb0b5694903a",
   "metadata": {
    "tags": []
   },
   "outputs": [
    {
     "data": {
      "text/plain": [
       "array([[-2.5  , -2.475, -2.45 , ...,  2.425,  2.45 ,  2.475],\n",
       "       [-2.5  , -2.475, -2.45 , ...,  2.425,  2.45 ,  2.475],\n",
       "       [-2.5  , -2.475, -2.45 , ...,  2.425,  2.45 ,  2.475],\n",
       "       ...,\n",
       "       [-2.5  , -2.475, -2.45 , ...,  2.425,  2.45 ,  2.475],\n",
       "       [-2.5  , -2.475, -2.45 , ...,  2.425,  2.45 ,  2.475],\n",
       "       [-2.5  , -2.475, -2.45 , ...,  2.425,  2.45 ,  2.475]])"
      ]
     },
     "execution_count": 65,
     "metadata": {},
     "output_type": "execute_result"
    }
   ],
   "source": [
    "uxx"
   ]
  },
  {
   "cell_type": "code",
   "execution_count": 69,
   "id": "0ec018a1-004b-48c0-a199-3fe47917af21",
   "metadata": {
    "tags": []
   },
   "outputs": [],
   "source": [
    "fx_source = 0.01\n",
    "fy_source = -0.0146\n",
    "fz_source = 0\n",
    "fx_source_on_grid = np.round(fx_source*shape[1]/dx)*dx/shape[1]\n",
    "fy_source_on_grid = np.round(fy_source*shape[0]/dy)*dy/shape[0]\n",
    "fx_source = np.array(fx_source)\n",
    "fy_source = np.array(fy_source)\n",
    "fz_source = n_b/wavelength\n",
    "ux_shifted = np.fft.ifftshift(xx)\n",
    "uy_shifted = np.fft.ifftshift(yy)\n",
    "uxx_shifted = np.fft.ifftshift(uxx)\n",
    "uyy_shifted = np.fft.ifftshift(uyy)"
   ]
  },
  {
   "cell_type": "code",
   "execution_count": 70,
   "id": "dc967a3b-1f92-447a-a24d-65e0c3aa84ba",
   "metadata": {
    "tags": []
   },
   "outputs": [],
   "source": [
    "a = (((ux_shifted-fx_source*shape[1])*np.conj(ux_shifted-fx_source*shape[1]))+((uy_shifted-fy_source*shape[0])*np.conj(uy_shifted-fy_source*shape[0])))**0.5"
   ]
  },
  {
   "cell_type": "code",
   "execution_count": 71,
   "id": "f67083e8-c7d7-44b1-8f06-0e30380bf64c",
   "metadata": {
    "tags": []
   },
   "outputs": [
    {
     "data": {
      "text/plain": [
       "array([[0, 0, 0, ..., 0, 0, 0],\n",
       "       [0, 0, 0, ..., 0, 0, 0],\n",
       "       [0, 0, 0, ..., 0, 0, 0],\n",
       "       ...,\n",
       "       [0, 0, 0, ..., 0, 0, 0],\n",
       "       [0, 0, 0, ..., 0, 0, 0],\n",
       "       [0, 0, 0, ..., 0, 0, 0]])"
      ]
     },
     "execution_count": 71,
     "metadata": {},
     "output_type": "execute_result"
    }
   ],
   "source": [
    "np.where(a,0,1)"
   ]
  },
  {
   "cell_type": "code",
   "execution_count": 72,
   "id": "e83843d1-484f-4b68-972b-006b29b4f73f",
   "metadata": {
    "tags": []
   },
   "outputs": [
    {
     "data": {
      "text/plain": [
       "0"
      ]
     },
     "execution_count": 72,
     "metadata": {},
     "output_type": "execute_result"
    }
   ],
   "source": [
    "np.sum(np.where(a,0,1))"
   ]
  },
  {
   "cell_type": "code",
   "execution_count": 73,
   "id": "e5118087-dd88-488d-af20-d44497be4252",
   "metadata": {
    "tags": []
   },
   "outputs": [
    {
     "data": {
      "text/plain": [
       "array([[3.53926546, 3.43021865, 3.3296246 , ..., 3.9097826 , 3.77973544,\n",
       "        3.65600875],\n",
       "       [3.70599514, 3.60199944, 3.50633712, ..., 4.06132983, 3.93629267,\n",
       "        3.81764325],\n",
       "       [3.87587409, 3.77655928, 3.68543078, ..., 4.21691831, 4.09663276,\n",
       "        3.98276286],\n",
       "       ...,\n",
       "       [3.06307036, 2.93639234, 2.81822639, ..., 3.48459467, 3.33802337,\n",
       "        3.19724882],\n",
       "       [3.21720375, 3.0968371 , 2.98502931, ..., 3.62082863, 3.48      ,\n",
       "        3.34520552],\n",
       "       [3.37615166, 3.26165602, 3.15569327, ..., 3.76276494, 3.6274509 ,\n",
       "        3.49834246]])"
      ]
     },
     "execution_count": 73,
     "metadata": {},
     "output_type": "execute_result"
    }
   ],
   "source": [
    "a"
   ]
  },
  {
   "cell_type": "code",
   "execution_count": 55,
   "id": "ef4039b8-e99a-440e-b310-78a85cec0b71",
   "metadata": {
    "tags": []
   },
   "outputs": [],
   "source": [
    "b = (n_b/wavelength)**2 - uxx_shifted*np.conj(uxx_shifted) - uyy_shifted*np.conj(uyy_shifted)"
   ]
  },
  {
   "cell_type": "code",
   "execution_count": 59,
   "id": "8f3dc79e-2645-4cb1-9f94-4f4f0be2552e",
   "metadata": {
    "tags": []
   },
   "outputs": [
    {
     "data": {
      "text/plain": [
       "-0.03701388888888868"
      ]
     },
     "execution_count": 59,
     "metadata": {},
     "output_type": "execute_result"
    }
   ],
   "source": [
    "b[0,89]"
   ]
  },
  {
   "cell_type": "code",
   "execution_count": 57,
   "id": "a09ce022-fd59-4980-8a4c-fd1ed265d285",
   "metadata": {
    "tags": []
   },
   "outputs": [
    {
     "data": {
      "text/plain": [
       "(200, 200)"
      ]
     },
     "execution_count": 57,
     "metadata": {},
     "output_type": "execute_result"
    }
   ],
   "source": [
    "b.shape"
   ]
  },
  {
   "cell_type": "code",
   "execution_count": 60,
   "id": "7af5082e-a6c0-4510-a6ac-8017fbc0c457",
   "metadata": {
    "tags": []
   },
   "outputs": [],
   "source": [
    "c = b\n",
    "c[c<0] = 0"
   ]
  },
  {
   "cell_type": "code",
   "execution_count": 68,
   "id": "7954158e-2036-4c85-9e73-91aa6fc612bc",
   "metadata": {
    "tags": []
   },
   "outputs": [],
   "source": [
    "for i in range(200):\n",
    "    for j in range(200):\n",
    "        if a[i,j]<0:\n",
    "            print(i)\n",
    "            print(j)"
   ]
  },
  {
   "cell_type": "code",
   "execution_count": null,
   "id": "cd7c26cb-6818-4c1e-96c0-2d6955f774f3",
   "metadata": {},
   "outputs": [],
   "source": []
  }
 ],
 "metadata": {
  "kernelspec": {
   "display_name": "FluoPhaseRecon",
   "language": "python",
   "name": "fluophaserecon"
  },
  "language_info": {
   "codemirror_mode": {
    "name": "ipython",
    "version": 3
   },
   "file_extension": ".py",
   "mimetype": "text/x-python",
   "name": "python",
   "nbconvert_exporter": "python",
   "pygments_lexer": "ipython3",
   "version": "3.9.16"
  }
 },
 "nbformat": 4,
 "nbformat_minor": 5
}
